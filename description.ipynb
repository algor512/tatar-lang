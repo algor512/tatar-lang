{
 "cells": [
  {
   "cell_type": "code",
   "execution_count": 1,
   "metadata": {
    "collapsed": true
   },
   "outputs": [],
   "source": [
    "import pandas as pd"
   ]
  },
  {
   "cell_type": "code",
   "execution_count": 31,
   "metadata": {
    "collapsed": false
   },
   "outputs": [],
   "source": [
    "tokens = pd.read_csv(\"./words.csv\", encoding=\"utf-8\", sep=\"\\t\", index_col=\"word_id\")\n",
    "tokens_processed = pd.read_csv(\"./disamed.csv\", encoding=\"utf-8\", sep=\"\\t\", index_col=\"word_id\")"
   ]
  },
  {
   "cell_type": "code",
   "execution_count": 59,
   "metadata": {
    "collapsed": false
   },
   "outputs": [
    {
     "name": "stdout",
     "output_type": "stream",
     "text": [
      "Всего записей (токенов): 1290845\n",
      "\n",
      "Из них слов: 911621 (70.62%)\n",
      "Не слов: 379224 (29.38%)\n",
      "Слов с неоднозначностью разбора: 236637 (25.96% - от кол-ва слов)\n",
      "Уникальных слов: 34831 ( #слов/#уникальных слов = 26.17)\n",
      "\n",
      "\"Снято\" неоднозначностей: 149428 (63.15% - от их кол-ва)\n",
      "Конфликтов снятий неоднозначностей: 7651 (5.12% - от кол-ва \"снятых\")\n"
     ]
    }
   ],
   "source": [
    "N = tokens.shape[0]\n",
    "\n",
    "print u\"Всего записей (токенов):\", tokens.shape[0]\n",
    "print\n",
    "\n",
    "\n",
    "words = tokens[tokens.morph.str.contains(u\"\\+\")]\n",
    "words_count = words.shape[0]\n",
    "nwords_count = N - words_count\n",
    "print u\"Из них слов: {} ({:.2f}%)\".format(words_count, 100.*words_count / N)  \n",
    "print u\"Не слов: {} ({:.2f}%)\".format(nwords_count, 100.*nwords_count / N)\n",
    "\n",
    "ambiguities = words[(words.morph.str.strip(\";\").str.split(\";\").map(len) > 1)]\n",
    "ambiguities_count = ambiguities.shape[0]\n",
    "print u\"Слов с неоднозначностью разбора: {} ({:.2f}% - от кол-ва слов)\".format(ambiguities_count, \n",
    "                                                                               100.*ambiguities_count / words_count)\n",
    "print u\"Уникальных слов: {} ( #слов/#уникальных слов = {:.2f})\".format(len(words.word.unique()), \n",
    "                                                                       1.*words_count / len(words.word.unique()))\n",
    "print\n",
    "\n",
    "n_processed = len((tokens_processed.index & ambiguities.index).unique())\n",
    "print u\"\\\"Снято\\\" неоднозначностей: {} ({:.2f}% - от их кол-ва)\".format(n_processed, 100.*n_processed / ambiguities_count)\n",
    "\n",
    "duplicated = tokens_processed.loc[tokens_processed.index.duplicated(keep=False),:]\n",
    "n_duplicated = len(duplicated.loc[duplicated.groupby(level=\"word_id\").chain.nunique() > 1, :].index.unique())\n",
    "print u\"Конфликтов снятий неоднозначностей: {} ({:.2f}% - от кол-ва \\\"снятых\\\")\".format(n_duplicated, \n",
    "                                                                                        100.*n_duplicated / n_processed)"
   ]
  },
  {
   "cell_type": "code",
   "execution_count": 85,
   "metadata": {
    "collapsed": false
   },
   "outputs": [
    {
     "name": "stdout",
     "output_type": "stream",
     "text": [
      "Всего уникальных тегов: 97\n"
     ]
    }
   ],
   "source": [
    "unique_tags = set()\n",
    "itr = 1\n",
    "for morph in words.morph:\n",
    "    for var in morph.split(\";\"):\n",
    "        if not var: continue\n",
    "        tags = var.split(\"+\")\n",
    "        unique_tags.update(tags[1:])\n",
    "\n",
    "print u\"Всего уникальных тегов: {}\".format(len(unique_tags))"
   ]
  },
  {
   "cell_type": "code",
   "execution_count": null,
   "metadata": {
    "collapsed": true
   },
   "outputs": [],
   "source": []
  }
 ],
 "metadata": {
  "kernelspec": {
   "display_name": "Python 2",
   "language": "python",
   "name": "python2"
  },
  "language_info": {
   "codemirror_mode": {
    "name": "ipython",
    "version": 2
   },
   "file_extension": ".py",
   "mimetype": "text/x-python",
   "name": "python",
   "nbconvert_exporter": "python",
   "pygments_lexer": "ipython2",
   "version": "2.7.12"
  }
 },
 "nbformat": 4,
 "nbformat_minor": 0
}
